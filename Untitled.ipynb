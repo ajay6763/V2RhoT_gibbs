{
 "cells": [
  {
   "cell_type": "code",
   "execution_count": 45,
   "id": "a1f9c9a8",
   "metadata": {},
   "outputs": [],
   "source": [
    "import numpy as np"
   ]
  },
  {
   "cell_type": "code",
   "execution_count": 46,
   "id": "0a7e93c0",
   "metadata": {},
   "outputs": [],
   "source": [
    "no_processors=12\n",
    "out_save = np.loadtxt('Core_1_vel_converted.txt',comments='#')\n",
    "for i in range(1,no_processors):\n",
    "        out = np.loadtxt('Core_'+str(i+1)+'_vel_converted.txt',comments='#') \n",
    "        out_save=np.append(out_save,out,axis=0)"
   ]
  },
  {
   "cell_type": "code",
   "execution_count": 47,
   "id": "fc90c51c",
   "metadata": {},
   "outputs": [
    {
     "data": {
      "text/plain": [
       "(3119, 7)"
      ]
     },
     "execution_count": 47,
     "metadata": {},
     "output_type": "execute_result"
    }
   ],
   "source": [
    "np.shape(out_save)\n",
    "#np.shape(out)"
   ]
  },
  {
   "cell_type": "code",
   "execution_count": 48,
   "id": "3341a3f5",
   "metadata": {},
   "outputs": [],
   "source": [
    " np.savetxt('Final_vel_converted.txt',out_save,header=\"#x(km) y(km) depth(km) Pressure(bar) Temperature(oC) Density(kg/m3) Vs_diff(km/s)\",comments='',fmt='%10.3f')\n"
   ]
  },
  {
   "cell_type": "code",
   "execution_count": null,
   "id": "042b6b9e",
   "metadata": {},
   "outputs": [],
   "source": []
  }
 ],
 "metadata": {
  "kernelspec": {
   "display_name": "Python 3",
   "language": "python",
   "name": "python3"
  },
  "language_info": {
   "codemirror_mode": {
    "name": "ipython",
    "version": 3
   },
   "file_extension": ".py",
   "mimetype": "text/x-python",
   "name": "python",
   "nbconvert_exporter": "python",
   "pygments_lexer": "ipython3",
   "version": "3.7.4"
  }
 },
 "nbformat": 4,
 "nbformat_minor": 5
}
