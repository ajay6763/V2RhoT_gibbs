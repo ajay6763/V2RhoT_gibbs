{
 "cells": [
  {
   "cell_type": "code",
   "execution_count": 1,
   "id": "aef0f4d4",
   "metadata": {},
   "outputs": [],
   "source": [
    "import numpy as np\n",
    "import matplotlib.pyplot as plt"
   ]
  },
  {
   "cell_type": "code",
   "execution_count": 69,
   "id": "7cd6aa0b",
   "metadata": {},
   "outputs": [
    {
     "name": "stdout",
     "output_type": "stream",
     "text": [
      "Adiabatic gradient (/km): 0.310464\n"
     ]
    }
   ],
   "source": [
    "Z= np.arange(1,1000) # km\n",
    "T_mantle = 1320 # oC\n",
    "alpha    = 3e-5 # oC-1\n",
    "cp       = 1250 # J/kg/oC \n",
    "g        = 9.8 #m/s2\n",
    "dT_dZ    = ((T_mantle*alpha*g)/cp)*1e3 # oC/km\n",
    "print('Adiabatic gradient (/km):',dT_dZ)\n",
    "T = T_mantle + Z*dT_dZ"
   ]
  },
  {
   "cell_type": "code",
   "execution_count": 70,
   "id": "40209f5e",
   "metadata": {},
   "outputs": [
    {
     "data": {
      "text/plain": [
       "[<matplotlib.lines.Line2D at 0x2cce5279c48>]"
      ]
     },
     "execution_count": 70,
     "metadata": {},
     "output_type": "execute_result"
    },
    {
     "data": {
      "image/png": "[encoded data removed]",
      "text/plain": [
       "<Figure size 432x288 with 1 Axes>"
      ]
     },
     "metadata": {
      "needs_background": "light"
     },
     "output_type": "display_data"
    }
   ],
   "source": [
    "plt.plot(T,-Z)"
   ]
  },
  {
   "cell_type": "code",
   "execution_count": 61,
   "id": "99de31fc",
   "metadata": {},
   "outputs": [
    {
     "data": {
      "text/plain": [
       "1250.0"
      ]
     },
     "execution_count": 61,
     "metadata": {},
     "output_type": "execute_result"
    }
   ],
   "source": [
    "1.25e3\n"
   ]
  },
  {
   "cell_type": "code",
   "execution_count": null,
   "id": "d99b96c9",
   "metadata": {},
   "outputs": [],
   "source": []
  }
 ],
 "metadata": {
  "kernelspec": {
   "display_name": "Python 3",
   "language": "python",
   "name": "python3"
  },
  "language_info": {
   "codemirror_mode": {
    "name": "ipython",
    "version": 3
   },
   "file_extension": ".py",
   "mimetype": "text/x-python",
   "name": "python",
   "nbconvert_exporter": "python",
   "pygments_lexer": "ipython3",
   "version": "3.7.4"
  }
 },
 "nbformat": 4,
 "nbformat_minor": 5
}
