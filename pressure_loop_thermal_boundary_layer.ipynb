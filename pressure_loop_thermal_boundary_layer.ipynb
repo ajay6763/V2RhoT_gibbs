{
 "cells": [
  {
   "cell_type": "code",
   "execution_count": 1,
   "id": "64c675b3",
   "metadata": {},
   "outputs": [],
   "source": [
    "import numpy as np\n",
    "from scipy import interpolate\n",
    "from matplotlib.tri import Triangulation\n",
    "import matplotlib.pyplot as plt"
   ]
  },
  {
   "cell_type": "code",
   "execution_count": 2,
   "id": "ef0fb949",
   "metadata": {},
   "outputs": [],
   "source": [
    "data=np.loadtxt('./data_tomo/V_mean.txt',comments='#')\n",
    "X = np.unique(data[:,0])\n",
    "Y = np.unique(data[:,1])\n",
    "Z = np.unique(data[:,2])\n",
    "nx,ny,nz = np.meshgrid(X,Y,Z)\n",
    "V= np.zeros_like(nz)"
   ]
  },
  {
   "cell_type": "code",
   "execution_count": 3,
   "id": "59dca96f",
   "metadata": {},
   "outputs": [],
   "source": [
    "m,n,p = np.shape(nz)\n",
    "for i in range(m):\n",
    "    for j in range(n):\n",
    "        for k in range(p):\n",
    "            ind = np.where( (data[:,0] == nx[i][j][k]) & (data[:,1] == ny[i][j][k]) & (data[:,2] == nz[i][j][k]))\n",
    "            #print(nx[i][j][k],ny[i][j][k],nz[i][j][k])\n",
    "            try:\n",
    "                V[i][j][k] = data[ind[0],3]\n",
    "            except:\n",
    "                print(ind)"
   ]
  },
  {
   "cell_type": "code",
   "execution_count": 13,
   "id": "ebf2665f",
   "metadata": {},
   "outputs": [
    {
     "data": {
      "text/plain": [
       "300.0"
      ]
     },
     "execution_count": 13,
     "metadata": {},
     "output_type": "execute_result"
    }
   ],
   "source": [
    "nz[0][0]"
   ]
  },
  {
   "cell_type": "code",
   "execution_count": 4,
   "id": "e368d394",
   "metadata": {},
   "outputs": [],
   "source": [
    "import V2RhoT_gibbs_lib as lib"
   ]
  },
  {
   "cell_type": "code",
   "execution_count": 5,
   "id": "5abc2f84",
   "metadata": {},
   "outputs": [],
   "source": [
    "DMM_no_atten = np.loadtxt('./databases/DMM_HP',comments='#')\n",
    "# correction using grain size = 10 mm and oscillatio period of 75 seconds.\n",
    "# Attenuation model of Jackson and Faul 2010\n",
    "# Function: lib.atten_correction (T (oC),P (Pascal),VP (km/s),Vs (km/s),oscilation period (s), grain size (mm))\n",
    "DMM_atten_corrected = np.copy(DMM_no_atten)\n",
    "for i in range(len(DMM_atten_corrected)):\n",
    "    DMM_atten_corrected[i,3],DMM_atten_corrected[i,4] = lib.atten_correction(DMM_atten_corrected[i,0],DMM_atten_corrected[i,1]*100000,\n",
    "                                                         DMM_atten_corrected[i,3],DMM_atten_corrected[i,4],75,10)\n",
    "\n",
    "# correction for melts\n",
    "# These are relations from lab experiments. More details in Afonso et al., 2016 III\n",
    "# Function: lib.velocity_melt_correction_mantle (T (oC),P (GPa),VP (km/s),Vs (km/s),oscilation period (s), grain size (mm))\n",
    "DMM_atten_melt_corrected = np.copy(DMM_atten_corrected)\n",
    "melt = np.zeros_like(DMM_atten_melt_corrected[:,0])\n",
    "for i in range(len(DMM_atten_melt_corrected)):\n",
    "    DMM_atten_melt_corrected[i,3],DMM_atten_melt_corrected[i,4],melt[i] = lib.velocity_melt_correction_mantle(DMM_atten_melt_corrected[i,0]-273.15,\n",
    "                                                                                             DMM_atten_melt_corrected[i,1]/10000,\n",
    "                                                             DMM_atten_melt_corrected[i,3],DMM_atten_melt_corrected[i,4])"
   ]
  },
  {
   "cell_type": "code",
   "execution_count": 161,
   "id": "a87a3b20",
   "metadata": {},
   "outputs": [],
   "source": [
    "### lithostatic pressure from ak135\n",
    "def lithostatic_pressure(depth,density):\n",
    "    Pressure_lith = np.zeros_like(depth)\n",
    "    for j in range(len(depth)-1): \n",
    "        DepthCalculated = False\n",
    "        i = 0\n",
    "        Pressure = 0.\n",
    "        d = np.absolute(depth[j])*1000.\n",
    "        while DepthCalculated is False:\n",
    "            if i > len(depth):\n",
    "                print('Maximum depth reached.')\n",
    "                break\n",
    "            z1   = depth[i]*1000.\n",
    "            Rho1 = density[i]\n",
    "            z2   = depth[i+1]*1000.\n",
    "            Rho2 = density[i+1]\n",
    "            if d < depth[i+1]*1000.:\n",
    "                Rho2 = Rho1 + (d - z1)/(z2 - z1)*(Rho2 - Rho1)\n",
    "                dz = d - z1\n",
    "                DepthCalculated = True\n",
    "            else:\n",
    "                dz = z2 - z1\n",
    "                Pressure = Pressure + dz*(Rho1 + (Rho2 - Rho1)/2)*9.8\n",
    "                i += 1\n",
    "        Pressure_lith[j]=Pressure*1e-5 # in bar\n",
    "        print(Pressure_lith[j],depth[j],density[j])\n",
    "    p_func = interpolate.interp1d(depth,Pressure_lith)\n",
    "    return p_func"
   ]
  },
  {
   "cell_type": "code",
   "execution_count": 21,
   "id": "5cae951d",
   "metadata": {},
   "outputs": [],
   "source": [
    "### lithostatic pressure \n",
    "def lithostatic_pressure(depth,density):\n",
    "    Pressure_lith = np.zeros_like(depth)\n",
    "    # Check is the first index is at zero depth or not\n",
    "    # If it is not then pressures is set equal rho*g*h\n",
    "    # else is it set to 0\n",
    "    if depth[0] != 0:\n",
    "        Pressure_lith[0] = density[0] * depth[0]* 9.8 * 1e3 * 1e-5\n",
    "    else:\n",
    "        #thickness = (depth[1]-depth[0]) #*1e3\n",
    "        Pressure_lith[0] = 0\n",
    "    # Now looping through depths\n",
    "    for j in range(len(depth)-2):\n",
    "        thickness = (depth[j+2] - depth [j+1]) *1e3\n",
    "        Pressure_lith[j+1]=Pressure_lith[j] + thickness*density[j+1] *9.8*1e-5\n",
    "        \n",
    "    # fixing last index\n",
    "    Pressure_lith[-1] = Pressure_lith[-2] + (depth[-1] - depth [-2])*1e3 * density[-2]*9.8*1e-5 \n",
    "    #print(depth[:],density[:],Pressure_lith[:])\n",
    "\n",
    "    p_func = interpolate.interp1d(depth,Pressure_lith)\n",
    "    return p_func"
   ]
  },
  {
   "cell_type": "code",
   "execution_count": 41,
   "id": "2d3f370f",
   "metadata": {},
   "outputs": [],
   "source": [
    "thresh_hold=1\n",
    "def vel_to_temp_P_loop(nx,ny,nz,Vs,Table):\n",
    "    Temperature_out = np.zeros_like(nx)\n",
    "    Density_out     = np.zeros_like(nx)#+3300\n",
    "    diff_Vs         = np.zeros_like(nx)\n",
    "    P_out           = np.zeros_like(nx)\n",
    "    melt_out        = np.zeros_like(nx)\n",
    "    #Vp_out          = []#np.zeros_like(tomo[:,1])\n",
    "    #Vs_out          = []#np.zeros_like(tomo[:,1])\n",
    "    m,n,p=np.shape(nx)\n",
    "    # looping over all the geospatial nodes\n",
    "    for i in range(1):\n",
    "        for j in range(1):\n",
    "            #P_func=lithostatic_pressure(nz[i][j][:],Density_out[i][j][:])\n",
    "            P_func=lib.pressure_inter\n",
    "            threshhold = 10\n",
    "            p_counter  = 0\n",
    "            while threshhold > 0:\n",
    "                #print(f'{p_counter} Pressure counter {threshhold}.')\n",
    "                p_counter = p_counter+1\n",
    "                for k in range(p):\n",
    "                    P  = P_func(nz[i][j][k])\n",
    "                    Vs_in = Vs[i][j][k]\n",
    "                    P_table,temp,dens,vp,vs=lib.lookup_vs_P_accurate(Vs_in,P.tolist(),Table)\n",
    "                    Temperature_out[i][j][k]=temp\n",
    "                    Density_out[i][j][k]=dens\n",
    "                P_func_new=lithostatic_pressure(nz[i][j][:],Density_out[i][j][:])\n",
    "                threshhold = np.sqrt(((P_func_new(nz[i][j][:]) - P_func(nz[i][j][:])) ** 2).mean())\n",
    "                #threshhold = P_func_new(nz[i][j][-1]) - P_func(nz[i][j][-1])\n",
    "                \n",
    "                #thresh_hold = abs(P_func_new(nz[i][j][:]) - P_func(nz[i][j][-1]))\n",
    "                print(f'{p_counter} Pressure updated {threshhold}.')\n",
    "                #print(threshhold)\n",
    "                P_func = P_func_new\n",
    "                #Temperature_out[i][j][k]=temp\n",
    "                #Temperature_out[i][j][k]=temp\n",
    "    return Temperature_out,Density_out \n"
   ]
  },
  {
   "cell_type": "code",
   "execution_count": 42,
   "id": "16ae4ee9",
   "metadata": {},
   "outputs": [
    {
     "name": "stdout",
     "output_type": "stream",
     "text": [
      "1 Pressure updated 913.6671263240239.\n",
      "2 Pressure updated 79.69359081098095.\n",
      "3 Pressure updated 8.501500000010129.\n",
      "4 Pressure updated 0.0.\n"
     ]
    }
   ],
   "source": [
    "T_P_loop,D_P_loop=vel_to_temp_P_loop(nx,ny,nz,V,DMM_atten_melt_corrected)"
   ]
  },
  {
   "cell_type": "code",
   "execution_count": 43,
   "id": "a6e37fb3",
   "metadata": {},
   "outputs": [],
   "source": [
    "def vel_to_temp(nx,ny,nz,Vs,Table):\n",
    "    Temperature_out = np.zeros_like(nx)\n",
    "    Density_out     = np.zeros_like(nx) #+3300\n",
    "    diff_Vs         = np.zeros_like(nx)\n",
    "    P_out           = np.zeros_like(nx)\n",
    "    melt_out        = np.zeros_like(nx)\n",
    "    #Vp_out          = []#np.zeros_like(tomo[:,1])\n",
    "    #Vs_out          = []#np.zeros_like(tomo[:,1])\n",
    "    m,n,p=np.shape(nx)\n",
    "    # looping over all the geospatial nodes\n",
    "    for i in range(1):\n",
    "        for j in range(1):\n",
    "            #P_func=lithostatic_pressure(nz[i][j][:],Density_out[i][j][:])\n",
    "            P_func=lib.pressure_inter\n",
    "            for k in range(p):\n",
    "                    P  = P_func(nz[i][j][k])\n",
    "                    print(P)\n",
    "                    Vs_in = Vs[i][j][k]\n",
    "                    print(Vs_in)\n",
    "                    P_table,temp,dens,vp,vs=lib.lookup_vs_P_accurate(Vs_in,P.tolist(),Table)\n",
    "                    #print(dens)\n",
    "                    Temperature_out[i][j][k]=temp\n",
    "                    Density_out[i][j][k]=dens\n",
    "                    print(Density_out[i][j][k])\n",
    "    return Temperature_out,Density_out "
   ]
  },
  {
   "cell_type": "code",
   "execution_count": 44,
   "id": "5a05d4d4",
   "metadata": {},
   "outputs": [
    {
     "name": "stdout",
     "output_type": "stream",
     "text": [
      "65324.44800000001\n",
      "4.4008613\n",
      "3385.64\n",
      "82301.478\n",
      "4.5544051\n",
      "3450.565\n",
      "100055.6088\n",
      "4.6854635\n",
      "3525.44\n",
      "118315.36080000002\n",
      "4.7774704\n",
      "3591.6400000000003\n",
      "137120.1104\n",
      "4.8259661\n",
      "3642.66\n"
     ]
    }
   ],
   "source": [
    "T,D=vel_to_temp(nx,ny,nz,V,DMM_atten_melt_corrected)"
   ]
  },
  {
   "cell_type": "code",
   "execution_count": 47,
   "id": "ddab981c",
   "metadata": {},
   "outputs": [
    {
     "data": {
      "text/plain": [
       "[<matplotlib.lines.Line2D at 0x2e241782188>]"
      ]
     },
     "execution_count": 47,
     "metadata": {},
     "output_type": "execute_result"
    },
    {
     "data": {
      "image/png": "[encoded data removed]",
      "text/plain": [
       "<Figure size 432x288 with 1 Axes>"
      ]
     },
     "metadata": {
      "needs_background": "light"
     },
     "output_type": "display_data"
    }
   ],
   "source": [
    "plt.plot(T[0][0][:]-T_P_loop[0][0][:])"
   ]
  },
  {
   "cell_type": "code",
   "execution_count": 46,
   "id": "277a0e81",
   "metadata": {},
   "outputs": [
    {
     "data": {
      "text/plain": [
       "array([3389.165, 3453.32 , 3526.99 , 3591.64 , 3647.18 ])"
      ]
     },
     "execution_count": 46,
     "metadata": {},
     "output_type": "execute_result"
    }
   ],
   "source": [
    "D_P_loop[0][0][:]"
   ]
  },
  {
   "cell_type": "code",
   "execution_count": 18,
   "id": "cbae8729",
   "metadata": {},
   "outputs": [
    {
     "name": "stdout",
     "output_type": "stream",
     "text": [
      "[ 65324.448   82301.478  100055.6088 118315.3608 137120.1104] [200. 250. 300. 350. 400.]\n",
      "[ 66427.634  83348.902 100631.153 118230.189 135829.225] [200. 250. 300. 350. 400.]\n"
     ]
    }
   ],
   "source": [
    "P=lithostatic_pressure(nz[0][0][:],D[0][0][:])\n",
    "print(lib.pressure_inter(nz[0][0][:]),nz[0][0][:])\n",
    "print(P(nz[0][0][:]),nz[0][0][:])"
   ]
  },
  {
   "cell_type": "code",
   "execution_count": 19,
   "id": "345335d6",
   "metadata": {},
   "outputs": [
    {
     "data": {
      "text/plain": [
       "array([66427.634])"
      ]
     },
     "execution_count": 19,
     "metadata": {},
     "output_type": "execute_result"
    }
   ],
   "source": [
    "p_new([200])"
   ]
  },
  {
   "cell_type": "code",
   "execution_count": 20,
   "id": "514e9054",
   "metadata": {},
   "outputs": [
    {
     "ename": "ValueError",
     "evalue": "A value in x_new is above the interpolation range.",
     "output_type": "error",
     "traceback": [
      "\u001b[1;31m---------------------------------------------------------------------------\u001b[0m",
      "\u001b[1;31mValueError\u001b[0m                                Traceback (most recent call last)",
      "\u001b[1;32m<ipython-input-20-015230ef9ae4>\u001b[0m in \u001b[0;36m<module>\u001b[1;34m\u001b[0m\n\u001b[1;32m----> 1\u001b[1;33m \u001b[0mplt\u001b[0m\u001b[1;33m.\u001b[0m\u001b[0mplot\u001b[0m\u001b[1;33m(\u001b[0m\u001b[0mp_ini\u001b[0m\u001b[1;33m(\u001b[0m\u001b[0mD\u001b[0m\u001b[1;33m[\u001b[0m\u001b[1;36m0\u001b[0m\u001b[1;33m]\u001b[0m\u001b[1;33m[\u001b[0m\u001b[1;36m0\u001b[0m\u001b[1;33m]\u001b[0m\u001b[1;33m[\u001b[0m\u001b[1;33m:\u001b[0m\u001b[1;33m]\u001b[0m\u001b[1;33m)\u001b[0m\u001b[1;33m-\u001b[0m\u001b[0mp_new\u001b[0m\u001b[1;33m(\u001b[0m\u001b[0mD\u001b[0m\u001b[1;33m[\u001b[0m\u001b[1;36m0\u001b[0m\u001b[1;33m]\u001b[0m\u001b[1;33m[\u001b[0m\u001b[1;36m0\u001b[0m\u001b[1;33m]\u001b[0m\u001b[1;33m[\u001b[0m\u001b[1;36m1\u001b[0m\u001b[1;33m:\u001b[0m\u001b[1;33m-\u001b[0m\u001b[1;36m1\u001b[0m\u001b[1;33m]\u001b[0m\u001b[1;33m)\u001b[0m\u001b[1;33m)\u001b[0m\u001b[1;33m\u001b[0m\u001b[1;33m\u001b[0m\u001b[0m\n\u001b[0m",
      "\u001b[1;32mc:\\users\\kumar\\appdata\\local\\programs\\python\\python37\\lib\\site-packages\\scipy\\interpolate\\polyint.py\u001b[0m in \u001b[0;36m__call__\u001b[1;34m(self, x)\u001b[0m\n\u001b[0;32m     76\u001b[0m         \"\"\"\n\u001b[0;32m     77\u001b[0m         \u001b[0mx\u001b[0m\u001b[1;33m,\u001b[0m \u001b[0mx_shape\u001b[0m \u001b[1;33m=\u001b[0m \u001b[0mself\u001b[0m\u001b[1;33m.\u001b[0m\u001b[0m_prepare_x\u001b[0m\u001b[1;33m(\u001b[0m\u001b[0mx\u001b[0m\u001b[1;33m)\u001b[0m\u001b[1;33m\u001b[0m\u001b[1;33m\u001b[0m\u001b[0m\n\u001b[1;32m---> 78\u001b[1;33m         \u001b[0my\u001b[0m \u001b[1;33m=\u001b[0m \u001b[0mself\u001b[0m\u001b[1;33m.\u001b[0m\u001b[0m_evaluate\u001b[0m\u001b[1;33m(\u001b[0m\u001b[0mx\u001b[0m\u001b[1;33m)\u001b[0m\u001b[1;33m\u001b[0m\u001b[1;33m\u001b[0m\u001b[0m\n\u001b[0m\u001b[0;32m     79\u001b[0m         \u001b[1;32mreturn\u001b[0m \u001b[0mself\u001b[0m\u001b[1;33m.\u001b[0m\u001b[0m_finish_y\u001b[0m\u001b[1;33m(\u001b[0m\u001b[0my\u001b[0m\u001b[1;33m,\u001b[0m \u001b[0mx_shape\u001b[0m\u001b[1;33m)\u001b[0m\u001b[1;33m\u001b[0m\u001b[1;33m\u001b[0m\u001b[0m\n\u001b[0;32m     80\u001b[0m \u001b[1;33m\u001b[0m\u001b[0m\n",
      "\u001b[1;32mc:\\users\\kumar\\appdata\\local\\programs\\python\\python37\\lib\\site-packages\\scipy\\interpolate\\interpolate.py\u001b[0m in \u001b[0;36m_evaluate\u001b[1;34m(self, x_new)\u001b[0m\n\u001b[0;32m    675\u001b[0m         \u001b[0my_new\u001b[0m \u001b[1;33m=\u001b[0m \u001b[0mself\u001b[0m\u001b[1;33m.\u001b[0m\u001b[0m_call\u001b[0m\u001b[1;33m(\u001b[0m\u001b[0mself\u001b[0m\u001b[1;33m,\u001b[0m \u001b[0mx_new\u001b[0m\u001b[1;33m)\u001b[0m\u001b[1;33m\u001b[0m\u001b[1;33m\u001b[0m\u001b[0m\n\u001b[0;32m    676\u001b[0m         \u001b[1;32mif\u001b[0m \u001b[1;32mnot\u001b[0m \u001b[0mself\u001b[0m\u001b[1;33m.\u001b[0m\u001b[0m_extrapolate\u001b[0m\u001b[1;33m:\u001b[0m\u001b[1;33m\u001b[0m\u001b[1;33m\u001b[0m\u001b[0m\n\u001b[1;32m--> 677\u001b[1;33m             \u001b[0mbelow_bounds\u001b[0m\u001b[1;33m,\u001b[0m \u001b[0mabove_bounds\u001b[0m \u001b[1;33m=\u001b[0m \u001b[0mself\u001b[0m\u001b[1;33m.\u001b[0m\u001b[0m_check_bounds\u001b[0m\u001b[1;33m(\u001b[0m\u001b[0mx_new\u001b[0m\u001b[1;33m)\u001b[0m\u001b[1;33m\u001b[0m\u001b[1;33m\u001b[0m\u001b[0m\n\u001b[0m\u001b[0;32m    678\u001b[0m             \u001b[1;32mif\u001b[0m \u001b[0mlen\u001b[0m\u001b[1;33m(\u001b[0m\u001b[0my_new\u001b[0m\u001b[1;33m)\u001b[0m \u001b[1;33m>\u001b[0m \u001b[1;36m0\u001b[0m\u001b[1;33m:\u001b[0m\u001b[1;33m\u001b[0m\u001b[1;33m\u001b[0m\u001b[0m\n\u001b[0;32m    679\u001b[0m                 \u001b[1;31m# Note fill_value must be broadcast up to the proper size\u001b[0m\u001b[1;33m\u001b[0m\u001b[1;33m\u001b[0m\u001b[1;33m\u001b[0m\u001b[0m\n",
      "\u001b[1;32mc:\\users\\kumar\\appdata\\local\\programs\\python\\python37\\lib\\site-packages\\scipy\\interpolate\\interpolate.py\u001b[0m in \u001b[0;36m_check_bounds\u001b[1;34m(self, x_new)\u001b[0m\n\u001b[0;32m    707\u001b[0m                              \"range.\")\n\u001b[0;32m    708\u001b[0m         \u001b[1;32mif\u001b[0m \u001b[0mself\u001b[0m\u001b[1;33m.\u001b[0m\u001b[0mbounds_error\u001b[0m \u001b[1;32mand\u001b[0m \u001b[0mabove_bounds\u001b[0m\u001b[1;33m.\u001b[0m\u001b[0many\u001b[0m\u001b[1;33m(\u001b[0m\u001b[1;33m)\u001b[0m\u001b[1;33m:\u001b[0m\u001b[1;33m\u001b[0m\u001b[1;33m\u001b[0m\u001b[0m\n\u001b[1;32m--> 709\u001b[1;33m             raise ValueError(\"A value in x_new is above the interpolation \"\n\u001b[0m\u001b[0;32m    710\u001b[0m                              \"range.\")\n\u001b[0;32m    711\u001b[0m \u001b[1;33m\u001b[0m\u001b[0m\n",
      "\u001b[1;31mValueError\u001b[0m: A value in x_new is above the interpolation range."
     ]
    }
   ],
   "source": [
    "plt.plot(p_ini(D[0][0][:])-p_new(D[0][0][1:-1]))"
   ]
  },
  {
   "cell_type": "code",
   "execution_count": 93,
   "id": "70d17ca1",
   "metadata": {},
   "outputs": [],
   "source": [
    "data=np.loadtxt('./data_tomo/NA_age_vel_stack.dat',comments='#')\n",
    "X = np.unique(data[:,0])\n",
    "#Y = np.unique(data[:,1])\n",
    "Z = np.unique(data[:,1])\n",
    "nx,nz = np.meshgrid(X,Z)\n",
    "V= np.zeros_like(nz)"
   ]
  },
  {
   "cell_type": "code",
   "execution_count": 94,
   "id": "af228b0b",
   "metadata": {},
   "outputs": [],
   "source": [
    "m,n = np.shape(nz)\n",
    "for i in range(m):\n",
    "    for k in range(p):\n",
    "        ind = np.where( (data[:,0] == nx[i][k]) & (data[:,1] == nz[i][k]))\n",
    "        #print(nx[i][j][k],ny[i][j][k],nz[i][j][k])\n",
    "        #try:\n",
    "        V[i][k] = data[ind[0],2]\n",
    "        #except:\n",
    "        #    print(ind)"
   ]
  },
  {
   "cell_type": "code",
   "execution_count": 27,
   "id": "cdebd632",
   "metadata": {},
   "outputs": [
    {
     "ename": "RuntimeError",
     "evalue": "Error in qhull Delaunay triangulation calculation: singular input data (exitcode=2); use python verbose option (-v) to see original qhull error.",
     "output_type": "error",
     "traceback": [
      "\u001b[1;31m---------------------------------------------------------------------------\u001b[0m",
      "\u001b[1;31mRuntimeError\u001b[0m                              Traceback (most recent call last)",
      "\u001b[1;32m<ipython-input-27-c39bacff7070>\u001b[0m in \u001b[0;36m<module>\u001b[1;34m\u001b[0m\n\u001b[1;32m----> 1\u001b[1;33m \u001b[0mtri\u001b[0m \u001b[1;33m=\u001b[0m \u001b[0mTriangulation\u001b[0m\u001b[1;33m(\u001b[0m\u001b[0mnx\u001b[0m\u001b[1;33m[\u001b[0m\u001b[1;36m1\u001b[0m\u001b[1;33m]\u001b[0m\u001b[1;33m[\u001b[0m\u001b[1;33m:\u001b[0m\u001b[1;33m]\u001b[0m\u001b[1;33m,\u001b[0m\u001b[1;33m-\u001b[0m\u001b[0mnz\u001b[0m\u001b[1;33m[\u001b[0m\u001b[1;36m1\u001b[0m\u001b[1;33m]\u001b[0m\u001b[1;33m[\u001b[0m\u001b[1;33m:\u001b[0m\u001b[1;33m]\u001b[0m\u001b[1;33m)\u001b[0m\u001b[1;33m\u001b[0m\u001b[1;33m\u001b[0m\u001b[0m\n\u001b[0m\u001b[0;32m      2\u001b[0m \u001b[0mfig\u001b[0m\u001b[1;33m,\u001b[0m \u001b[0max\u001b[0m \u001b[1;33m=\u001b[0m \u001b[0mplt\u001b[0m\u001b[1;33m.\u001b[0m\u001b[0msubplots\u001b[0m\u001b[1;33m(\u001b[0m\u001b[1;36m1\u001b[0m\u001b[1;33m,\u001b[0m \u001b[1;36m1\u001b[0m\u001b[1;33m,\u001b[0m \u001b[0msharex\u001b[0m\u001b[1;33m=\u001b[0m\u001b[1;32mTrue\u001b[0m\u001b[1;33m,\u001b[0m \u001b[0msharey\u001b[0m\u001b[1;33m=\u001b[0m\u001b[1;32mTrue\u001b[0m\u001b[1;33m,\u001b[0m\u001b[0mfigsize\u001b[0m\u001b[1;33m=\u001b[0m\u001b[1;33m(\u001b[0m\u001b[1;36m10\u001b[0m\u001b[1;33m,\u001b[0m\u001b[1;36m5\u001b[0m\u001b[1;33m)\u001b[0m\u001b[1;33m)\u001b[0m\u001b[1;33m\u001b[0m\u001b[1;33m\u001b[0m\u001b[0m\n\u001b[0;32m      3\u001b[0m \u001b[0mm_v_in\u001b[0m \u001b[1;33m=\u001b[0m \u001b[0max\u001b[0m\u001b[1;33m.\u001b[0m\u001b[0mtricontourf\u001b[0m\u001b[1;33m(\u001b[0m\u001b[0mtri\u001b[0m\u001b[1;33m,\u001b[0m \u001b[0mV\u001b[0m\u001b[1;33m[\u001b[0m\u001b[1;36m1\u001b[0m\u001b[1;33m]\u001b[0m\u001b[1;33m[\u001b[0m\u001b[1;33m:\u001b[0m\u001b[1;33m]\u001b[0m\u001b[1;33m,\u001b[0m\u001b[0mcmap\u001b[0m\u001b[1;33m=\u001b[0m\u001b[1;34m'RdBu'\u001b[0m\u001b[1;33m,\u001b[0m\u001b[0mlevels\u001b[0m\u001b[1;33m=\u001b[0m\u001b[0mnp\u001b[0m\u001b[1;33m.\u001b[0m\u001b[0marange\u001b[0m\u001b[1;33m(\u001b[0m\u001b[1;36m3.8\u001b[0m\u001b[1;33m,\u001b[0m\u001b[1;36m5\u001b[0m\u001b[1;33m,\u001b[0m\u001b[1;36m0.05\u001b[0m\u001b[1;33m)\u001b[0m\u001b[1;33m)\u001b[0m\u001b[1;33m\u001b[0m\u001b[1;33m\u001b[0m\u001b[0m\n\u001b[0;32m      4\u001b[0m \u001b[0max\u001b[0m\u001b[1;33m.\u001b[0m\u001b[0mset_ylim\u001b[0m\u001b[1;33m(\u001b[0m\u001b[1;33m[\u001b[0m\u001b[1;33m-\u001b[0m\u001b[1;36m400\u001b[0m\u001b[1;33m,\u001b[0m\u001b[1;36m0\u001b[0m\u001b[1;33m]\u001b[0m\u001b[1;33m)\u001b[0m\u001b[1;33m\u001b[0m\u001b[1;33m\u001b[0m\u001b[0m\n\u001b[0;32m      5\u001b[0m \u001b[0max\u001b[0m\u001b[1;33m.\u001b[0m\u001b[0mset_xlabel\u001b[0m\u001b[1;33m(\u001b[0m\u001b[1;34m'Age (Ma)'\u001b[0m\u001b[1;33m)\u001b[0m\u001b[1;33m\u001b[0m\u001b[1;33m\u001b[0m\u001b[0m\n",
      "\u001b[1;32mc:\\users\\kumar\\appdata\\local\\programs\\python\\python37\\lib\\site-packages\\matplotlib\\tri\\triangulation.py\u001b[0m in \u001b[0;36m__init__\u001b[1;34m(self, x, y, triangles, mask)\u001b[0m\n\u001b[0;32m     52\u001b[0m             \u001b[1;31m# No triangulation specified, so use matplotlib._qhull to obtain\u001b[0m\u001b[1;33m\u001b[0m\u001b[1;33m\u001b[0m\u001b[1;33m\u001b[0m\u001b[0m\n\u001b[0;32m     53\u001b[0m             \u001b[1;31m# Delaunay triangulation.\u001b[0m\u001b[1;33m\u001b[0m\u001b[1;33m\u001b[0m\u001b[1;33m\u001b[0m\u001b[0m\n\u001b[1;32m---> 54\u001b[1;33m             \u001b[0mself\u001b[0m\u001b[1;33m.\u001b[0m\u001b[0mtriangles\u001b[0m\u001b[1;33m,\u001b[0m \u001b[0mself\u001b[0m\u001b[1;33m.\u001b[0m\u001b[0m_neighbors\u001b[0m \u001b[1;33m=\u001b[0m \u001b[0m_qhull\u001b[0m\u001b[1;33m.\u001b[0m\u001b[0mdelaunay\u001b[0m\u001b[1;33m(\u001b[0m\u001b[0mx\u001b[0m\u001b[1;33m,\u001b[0m \u001b[0my\u001b[0m\u001b[1;33m)\u001b[0m\u001b[1;33m\u001b[0m\u001b[1;33m\u001b[0m\u001b[0m\n\u001b[0m\u001b[0;32m     55\u001b[0m             \u001b[0mself\u001b[0m\u001b[1;33m.\u001b[0m\u001b[0mis_delaunay\u001b[0m \u001b[1;33m=\u001b[0m \u001b[1;32mTrue\u001b[0m\u001b[1;33m\u001b[0m\u001b[1;33m\u001b[0m\u001b[0m\n\u001b[0;32m     56\u001b[0m         \u001b[1;32melse\u001b[0m\u001b[1;33m:\u001b[0m\u001b[1;33m\u001b[0m\u001b[1;33m\u001b[0m\u001b[0m\n",
      "\u001b[1;31mRuntimeError\u001b[0m: Error in qhull Delaunay triangulation calculation: singular input data (exitcode=2); use python verbose option (-v) to see original qhull error."
     ]
    }
   ],
   "source": [
    "tri = Triangulation(nx[1][:],-nz[1][:])\n",
    "fig, ax = plt.subplots(1, 1, sharex=True, sharey=True,figsize=(10,5))\n",
    "m_v_in = ax.tricontourf(tri, V[1][:],cmap='RdBu',levels=np.arange(3.8,5,0.05))\n",
    "ax.set_ylim([-400,0])\n",
    "ax.set_xlabel('Age (Ma)')\n",
    "ax.set_ylabel('Depth (km)')\n",
    "fig.colorbar(m_v_in, ax=ax, label='CSEM Vs(km/s)', orientation='vertical')"
   ]
  },
  {
   "cell_type": "code",
   "execution_count": 31,
   "id": "9e43a6a8",
   "metadata": {},
   "outputs": [],
   "source": [
    "from mpl_toolkits.mplot3d import Axes3D\n"
   ]
  },
  {
   "cell_type": "code",
   "execution_count": 95,
   "id": "eb8c4ce6",
   "metadata": {},
   "outputs": [
    {
     "data": {
      "image/png": "[encoded data removed]",
      "text/plain": [
       "<Figure size 432x288 with 1 Axes>"
      ]
     },
     "metadata": {
      "needs_background": "light"
     },
     "output_type": "display_data"
    }
   ],
   "source": [
    "fig = plt.figure()\n",
    "ax = fig.add_subplot(111, projection='3d')\n",
    "ax.plot(nx[1],nz[1],V[1])\n",
    "plt.show()"
   ]
  },
  {
   "cell_type": "code",
   "execution_count": 58,
   "id": "9e7dd8c4",
   "metadata": {},
   "outputs": [],
   "source": [
    "thresh_hold=1\n",
    "def vel_to_temp_2D(nx,nz,Vs,Table):\n",
    "    Temperature_out = np.zeros_like(nx)\n",
    "    Density_out     = np.zeros_like(nx) #+3300\n",
    "    diff_Vs         = np.zeros_like(nx)\n",
    "    P_out           = np.zeros_like(nx)\n",
    "    melt_out        = np.zeros_like(nx)\n",
    "    #Vp_out          = []#np.zeros_like(tomo[:,1])\n",
    "    #Vs_out          = []#np.zeros_like(tomo[:,1])\n",
    "    m,p=np.shape(nx)\n",
    "    # looping over all the geospatial nodes\n",
    "    for i in range(m):\n",
    "        #P_func=lithostatic_pressure(nz[i][:],Density_out[i][:])\n",
    "        P_func=lib.pressure_inter\n",
    "        threshhold = 12000\n",
    "        while threshhold >1000:\n",
    "            for k in range(p):\n",
    "                P  = P_func(nz[i][k])\n",
    "                Vs_in = Vs[i][k]\n",
    "                P_table,temp,dens,vp,vs=lib.lookup_vs_P_accurate(Vs_in,P.tolist(),Table)\n",
    "                Temperature_out[i][k]=temp\n",
    "                Density_out[i][k]=dens\n",
    "\n",
    "            P_func_new=lithostatic_pressure(nz[i][:],Density_out[i][:])\n",
    "            threshhold= np.sqrt(((P_func_new(nz[i][:]) - P_func(nz[i][:])) ** 2).mean())\n",
    "            #thresh_hold = abs(P_func_new(nz[i][j][:]) - P_func(nz[i][j][-1]))\n",
    "            print(threshhold)\n",
    "            P_func = P_func_new\n",
    "            #Temperature_out[i][j][k]=temp\n",
    "            #Temperature_out[i][j][k]=temp\n",
    "    return Temperature_out,Density_out "
   ]
  },
  {
   "cell_type": "code",
   "execution_count": 59,
   "id": "5a331035",
   "metadata": {},
   "outputs": [
    {
     "name": "stderr",
     "output_type": "stream",
     "text": [
      "c:\\users\\kumar\\appdata\\local\\programs\\python\\python37\\lib\\site-packages\\ipykernel_launcher.py:18: RuntimeWarning: divide by zero encountered in double_scalars\n",
      "c:\\users\\kumar\\appdata\\local\\programs\\python\\python37\\lib\\site-packages\\ipykernel_launcher.py:18: RuntimeWarning: invalid value encountered in double_scalars\n"
     ]
    },
    {
     "name": "stdout",
     "output_type": "stream",
     "text": [
      "1274.0000000000002\n",
      "0.0\n",
      "2861.6000000000004\n",
      "0.0\n",
      "4292.4\n",
      "0.0\n",
      "7115.8293920000015\n",
      "0.0\n",
      "8848.592872000001\n",
      "0.0\n",
      "10581.356352000003\n",
      "0.0\n",
      "12314.119832\n",
      "0.0\n",
      "14046.883312000002\n",
      "0.0\n",
      "15755.143486486488\n",
      "0.0\n",
      "17426.648702702707\n",
      "0.0\n",
      "19098.15391891892\n",
      "0.0\n",
      "20769.659135135138\n",
      "0.0\n",
      "22441.16435135135\n",
      "0.0\n",
      "24112.669567567566\n",
      "0.0\n",
      "25784.17478378379\n",
      "0.0\n",
      "27455.680000000008\n",
      "0.0\n",
      "29061.116\n",
      "0.0\n",
      "30666.552\n",
      "0.0\n",
      "32271.98800000001\n",
      "0.0\n",
      "33877.42400000001\n",
      "0.0\n",
      "35482.860000000015\n",
      "0.0\n",
      "37088.296\n",
      "0.0\n",
      "38693.731999999996\n",
      "0.0\n",
      "40299.168000000005\n",
      "0.0\n",
      "41878.22566666667\n",
      "0.0\n",
      "43457.28333333333\n",
      "0.0\n",
      "45036.34100000002\n",
      "0.0\n",
      "46615.39866666667\n",
      "0.0\n",
      "48194.45633333336\n",
      "0.0\n",
      "49773.51400000002\n",
      "0.0\n",
      "51352.57166666668\n",
      "0.0\n",
      "52931.62933333334\n",
      "0.0\n",
      "54510.68700000002\n",
      "0.0\n",
      "56055.51000000002\n",
      "0.0\n",
      "57600.33300000001\n",
      "0.0\n",
      "59145.15600000002\n",
      "0.0\n",
      "60689.979000000014\n",
      "0.0\n",
      "62234.80200000001\n",
      "0.0\n",
      "63779.625000000015\n",
      "0.0\n",
      "65324.448000000004\n",
      "0.0\n",
      "66869.27100000001\n",
      "0.0\n",
      "68414.09400000003\n",
      "0.0\n",
      "70150.01699999999\n",
      "0.0\n",
      "71885.94\n",
      "0.0\n",
      "73621.863\n",
      "0.0\n",
      "75357.78600000002\n",
      "0.0\n",
      "77093.709\n",
      "0.0\n",
      "78829.63200000003\n",
      "0.0\n",
      "80565.55500000002\n",
      "0.0\n",
      "82301.47800000002\n",
      "0.0\n",
      "84037.40100000003\n",
      "0.0\n",
      "85773.32400000001\n",
      "0.0\n",
      "87558.6096\n",
      "0.0\n",
      "89343.89520000003\n",
      "0.0\n",
      "91129.18080000002\n",
      "0.0\n",
      "92914.4664\n",
      "0.0\n",
      "94699.75200000002\n",
      "0.0\n",
      "96485.0376\n",
      "0.0\n",
      "98270.32320000001\n",
      "0.0\n",
      "100055.6088\n",
      "0.0\n",
      "101840.8944\n",
      "0.0\n",
      "103626.18\n",
      "0.0\n",
      "105462.32759999998\n",
      "0.0\n",
      "107298.4752\n",
      "0.0\n",
      "109134.62280000003\n",
      "0.0\n",
      "110970.7704\n",
      "0.0\n",
      "112806.91800000003\n",
      "0.0\n",
      "114643.0656\n",
      "0.0\n",
      "116479.21320000001\n",
      "0.0\n",
      "118315.36080000004\n",
      "0.0\n",
      "120151.50840000002\n",
      "0.0\n",
      "121987.65600000005\n",
      "0.0\n",
      "123879.21280000005\n",
      "0.0\n",
      "125770.7696\n",
      "0.0\n",
      "127662.3264\n",
      "0.0\n",
      "129553.88320000001\n",
      "0.0\n",
      "131445.44000000003\n",
      "0.0\n",
      "133336.9968\n",
      "0.0\n",
      "135228.5536\n",
      "0.0\n",
      "137120.11039999998\n",
      "0.0\n"
     ]
    }
   ],
   "source": [
    "T,D=vel_to_temp_2D(nx,nz,V,DMM_atten_melt_corrected)"
   ]
  },
  {
   "cell_type": "code",
   "execution_count": 87,
   "id": "2156d897",
   "metadata": {},
   "outputs": [
    {
     "data": {
      "image/png": "[encoded data removed]",
      "text/plain": [
       "<Figure size 432x288 with 1 Axes>"
      ]
     },
     "metadata": {
      "needs_background": "light"
     },
     "output_type": "display_data"
    }
   ],
   "source": [
    "fig = plt.figure()\n",
    "ax = fig.add_subplot(111, projection='3d')\n",
    "index=23\n",
    "ax.plot(nx[:][index],nz[:][index],T[:][index])\n",
    "ax.set_xlabel('Age')\n",
    "ax.set_ylabel('Depth')\n",
    "ax.set_zlabel('Temperature')\n",
    "plt.show()"
   ]
  },
  {
   "cell_type": "code",
   "execution_count": 97,
   "id": "eb617d57",
   "metadata": {},
   "outputs": [
    {
     "data": {
      "text/plain": [
       "(array([  0.,   5.,  10.,  15.,  20.,  25.,  30.,  35.,  40.,  45.,  50.,\n",
       "         55.,  60.,  65.,  70.,  75.,  80.,  85.,  90.,  95., 100., 105.,\n",
       "        110., 115., 120., 125., 130., 135., 140., 145., 150., 155., 160.,\n",
       "        165., 170., 175., 180., 185., 190.]),\n",
       " array([55., 55., 55., 55., 55., 55., 55., 55., 55., 55., 55., 55., 55.,\n",
       "        55., 55., 55., 55., 55., 55., 55., 55., 55., 55., 55., 55., 55.,\n",
       "        55., 55., 55., 55., 55., 55., 55., 55., 55., 55., 55., 55., 55.]),\n",
       " array([4.3982029 , 4.40572834, 4.41502047, 4.41996193, 4.42710114,\n",
       "        0.        , 0.        , 0.        , 0.        , 0.        ,\n",
       "        0.        , 0.        , 0.        , 0.        , 0.        ,\n",
       "        0.        , 0.        , 0.        , 0.        , 0.        ,\n",
       "        0.        , 0.        , 0.        , 0.        , 0.        ,\n",
       "        0.        , 0.        , 0.        , 0.        , 0.        ,\n",
       "        0.        , 0.        , 0.        , 0.        , 0.        ,\n",
       "        0.        , 0.        , 0.        , 0.        ]),\n",
       " array([ 774.37  ,  751.02  ,  727.6765,  712.1095,  688.762 , 1210.195 ,\n",
       "        1210.195 , 1210.195 , 1210.195 , 1210.195 , 1210.195 , 1210.195 ,\n",
       "        1210.195 , 1210.195 , 1210.195 , 1210.195 , 1210.195 , 1210.195 ,\n",
       "        1210.195 , 1210.195 , 1210.195 , 1210.195 , 1210.195 , 1210.195 ,\n",
       "        1210.195 , 1210.195 , 1210.195 , 1210.195 , 1210.195 , 1210.195 ,\n",
       "        1210.195 , 1210.195 , 1210.195 , 1210.195 , 1210.195 , 1210.195 ,\n",
       "        1210.195 , 1210.195 , 1210.195 ]))"
      ]
     },
     "execution_count": 97,
     "metadata": {},
     "output_type": "execute_result"
    }
   ],
   "source": [
    "nx[:][10],nz[:][10],V[:][10],T[:][10]"
   ]
  },
  {
   "cell_type": "code",
   "execution_count": 99,
   "id": "64b90ee8",
   "metadata": {},
   "outputs": [
    {
     "data": {
      "text/plain": [
       "[<matplotlib.lines.Line2D at 0x233eed4b908>]"
      ]
     },
     "execution_count": 99,
     "metadata": {},
     "output_type": "execute_result"
    },
    {
     "data": {
      "image/png": "[encoded data removed]",
      "text/plain": [
       "<Figure size 432x288 with 1 Axes>"
      ]
     },
     "metadata": {
      "needs_background": "light"
     },
     "output_type": "display_data"
    }
   ],
   "source": [
    "plt.plot(T[1][:])"
   ]
  },
  {
   "cell_type": "code",
   "execution_count": null,
   "id": "ff50998b",
   "metadata": {},
   "outputs": [],
   "source": []
  }
 ],
 "metadata": {
  "kernelspec": {
   "display_name": "Python 3",
   "language": "python",
   "name": "python3"
  },
  "language_info": {
   "codemirror_mode": {
    "name": "ipython",
    "version": 3
   },
   "file_extension": ".py",
   "mimetype": "text/x-python",
   "name": "python",
   "nbconvert_exporter": "python",
   "pygments_lexer": "ipython3",
   "version": "3.7.4"
  }
 },
 "nbformat": 4,
 "nbformat_minor": 5
}
